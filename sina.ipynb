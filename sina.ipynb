{
 "cells": [
  {
   "cell_type": "markdown",
   "metadata": {},
   "source": [
    "## [新浪微博](http://weibo.com)\n",
    "- 模拟登陆\n",
    "- 模拟发帖\n",
    "- 模拟转发\n",
    "- 模拟关注"
   ]
  },
  {
   "cell_type": "markdown",
   "metadata": {},
   "source": [
    "### 模拟登陆"
   ]
  },
  {
   "cell_type": "code",
   "execution_count": null,
   "metadata": {
    "collapsed": false
   },
   "outputs": [],
   "source": [
    "#encoding=utf-8\n",
    "import re\n",
    "import rsa\n",
    "import urllib,urllib2\n",
    "import json\n",
    "import binascii\n",
    "import time\n",
    "import requests\n",
    "\n",
    "#user,password用户名密码,使用自己注册的sina用户名密码\n",
    "username = '123456' #your username\n",
    "password = '123456' #your password\n",
    "\n",
    "\n",
    "\n",
    "#访问网页时，su指向用户名（urlencode后）base64，_后跟时间\n",
    "session = requests.Session()\n",
    "su = urllib.quote(username)\n",
    "su = binascii.b2a_base64(su).strip()\n",
    "pre_url = 'http://login.sina.com.cn/sso/prelogin.php?entry=weibo&callback=sinaSSOController.preloginCallBack&su='+su+'&rsakt=mod&checkpin=1&client=ssologin.js(v1.4.18)&_='+str((int(time.time()*100)))\n",
    "login_url = 'http://login.sina.com.cn/sso/login.php?client=ssologin.js(v1.4.18)'\n",
    "\n",
    "#\n",
    "req = urllib2.Request(pre_url)\n",
    "req.add_header('User-Agent','Mozilla/5.0 (Windows NT 6.1) AppleWebKit/537.36 (KHTML, like Gecko) Chrome/27.0.1453.116')\n",
    "req.add_header('Accept','*/*')\n",
    "req.add_header('Accept-Language','en-US,en;q=0.5')\n",
    "req.add_header('Accept-Encoding','deflate')\n",
    "req.add_header('Referer','http://weibo.com/login.php')\n",
    "response = urllib2.urlopen(req)\n",
    "jsonText = response.read()\n",
    "\n",
    "m = re.search('{.*}',jsonText)\n",
    "if m != None:\n",
    "    data = m.group()\n",
    "else:\n",
    "    print '[-] can not find preloginCallBack Func, please try to check the pre_url!'\n",
    "    exit()\n",
    "data = json.loads(data)\n",
    "servertime = str(data['servertime'])\n",
    "nonce = data['nonce']\n",
    "pubkey = data['pubkey']\n",
    "rsakv = data['rsakv']\n",
    "time.sleep(10)\n",
    "\n",
    "#encode username\n",
    "su = urllib.quote(username)\n",
    "su = binascii.b2a_base64(su).strip()\n",
    "#encode password\n",
    "rsaPublickey = int(pubkey, 16)\n",
    "key = rsa.PublicKey(rsaPublickey, 65537)\n",
    "message = str(servertime) + '\\t' + str(nonce) + '\\n' + str(password)\n",
    "pwd = binascii.b2a_hex(rsa.encrypt(message, key))\n",
    "\n",
    "#post data\n",
    "postdata = {\n",
    "                    'entry': 'weibo',\n",
    "                    'gateway': '1',\n",
    "                    'from': '',\n",
    "                    'savestate': '7',\n",
    "                    'pagerefer':'http://login.sina.com.cn/sso/logout.php?entry=miniblog&r=http://weibo.com/logout.php?backurl=/',\n",
    "                    'userticket': '1',\n",
    "                    'ssosimplelogin': '1',\n",
    "                    'vsnf': '1',\n",
    "                    'vsnval': '',\n",
    "                    'su': su,\n",
    "                    'service': 'miniblog',\n",
    "                    'servertime': servertime,\n",
    "                    'nonce': nonce,\n",
    "                    'pwencode': 'rsa2',\n",
    "                    'sp': pwd,\n",
    "                    'encoding': 'UTF-8',\n",
    "                    'url': 'http://weibo.com/ajaxlogin.php?framelogin=1&callback=parent.sinaSSOController.feedBackUrlCallBack',\n",
    "                    'returntype': 'META',\n",
    "                    'rsakv' : rsakv,\n",
    "                    'sr': '1440*900',\n",
    "                    }\n",
    "#req = urllib2.Request(login_url)\n",
    "headers = {}\n",
    "headers['User-Agent'] = 'Mozilla/5.0 (Windows NT 6.1) AppleWebKit/537.36 (KHTML, like Gecko) Chrome/27.0.1453.116'\n",
    "headers['Accept'] = '*/*'\n",
    "headers['Accept-Language'] = 'en-US,en;q=0.5'\n",
    "headers['Accept-Encoding'] = 'deflate'\n",
    "headers['Referer'] = 'http://weibo.com/'\n",
    "headers['Content-Type'] =  'application/x-www-form-urlencoded'\n",
    "jsonText = session.post(login_url, postdata, headers = headers)\n",
    "jsonText.content"
   ]
  },
  {
   "cell_type": "code",
   "execution_count": null,
   "metadata": {
    "collapsed": true
   },
   "outputs": [],
   "source": []
  },
  {
   "cell_type": "code",
   "execution_count": null,
   "metadata": {
    "collapsed": false,
    "scrolled": false
   },
   "outputs": [],
   "source": [
    "#search pages\n",
    "sea_url = re.search(\"replace\\('(.*)'\\)\",jsonText.content)\n",
    "if sea_url is not None:\n",
    "    sea_url =  sea_url.group().replace('replace(\\'','').replace('\\')','')\n",
    "else:\n",
    "    print '[-] login failed, can not reach sign in pages, please try to avoid identifying code in login process!'\n",
    "    exit(0)\n",
    "\n",
    "# visit the search url and get unique id\n",
    "headers = {}\n",
    "headers['User-Agent'] = 'Mozilla/5.0 (Windows NT 6.1) AppleWebKit/537.36 (KHTML, like Gecko) Chrome/27.0.1453.116'\n",
    "headers['Accept'] = '*/*'\n",
    "headers['Accept-Language'] = 'en-US,en;q=0.5'\n",
    "headers['Accept-Encoding'] = 'deflate'\n",
    "headers['Referer'] = login_url\n",
    "headers['Content-Type'] =  'application/x-www-form-urlencoded'\n",
    "jsonText = session.get(sea_url, headers = headers)\n",
    "content = jsonText.content\n",
    "#get uid\n",
    "m = re.search('\"uniqueid\":\"(\\d+)\"', content)\n",
    "if m is not None:\n",
    "    uid =  m.group().split(':')[1].replace('\"','')\n",
    "else:\n",
    "    print '[-] can not locate your uniqueid, please check if you can locate to arg sea_url!'\n",
    "    exit(0)\n",
    "#get cookies\n",
    "personal_url = 'http://weibo.com/u/'+str(uid)\n",
    "headers = {}\n",
    "headers['User-Agent'] = 'Mozilla/5.0 (Windows NT 6.1) AppleWebKit/537.36 (KHTML, like Gecko) Chrome/27.0.1453.116'\n",
    "headers['Accept'] = '*/*'\n",
    "headers['Accept-Language'] = 'en-US,en;q=0.5'\n",
    "headers['Accept-Encoding'] = 'deflate'\n",
    "headers['Referer'] = login_url\n",
    "headers['Content-Type'] =  'application/x-www-form-urlencoded'\n",
    "jsonText = session.get(personal_url, headers = headers)\n",
    "jsonText.headers"
   ]
  },
  {
   "cell_type": "code",
   "execution_count": null,
   "metadata": {
    "collapsed": false
   },
   "outputs": [],
   "source": [
    "#coding=utf-8\n",
    "import re\n",
    "import json\n",
    "\n",
    "def get_uid(uid, resp):\n",
    "    url = 'http://weibo.com/u/'+str(uid)\n",
    "    print url\n",
    "    headers = {}\n",
    "    headers['User-Agent'] = 'Mozilla/5.0 (Windows NT 6.1) AppleWebKit/537.36 (KHTML, like Gecko) Chrome/27.0.1453.116'\n",
    "    headers['Accept'] = '*/*'\n",
    "    headers['Accept-Language'] = 'en-US,en;q=0.5'\n",
    "    headers['Accept-Encoding'] = 'deflate'\n",
    "    #headers['Referer'] = 'http://weibo.com/u/5687625445/home'\n",
    "    headers['Content-Type'] =  'application/x-www-form-urlencoded'\n",
    "    #headers['Cookie'] = resp.headers['set-cookie']\n",
    "    jsonText = session.get(personal_url, headers = headers)\n",
    "    return jsonText.content\n",
    "\n",
    "#get basic info for a user\n",
    "def get_config(jsonText):\n",
    "    msg = '<\\!-- \\$CONFIG -->.*<\\!-- \\/ \\$CONFIG -->'\n",
    "    src = re.compile(msg)\n",
    "    re_msg = re.search(src, jsonText.replace('\\r\\n',''))\n",
    "    if re_msg != None:\n",
    "        info = re_msg.group()\n",
    "    else:\n",
    "        print '[-] No CONFIG found!'\n",
    "        exit()\n",
    "    try:\n",
    "        info = re.search('\\$CONFIG\\[.*;',info).group()\n",
    "        meg = \"\\$CONFIG\\['oid'\\]='[0-9]*'\"#uid\n",
    "        uid = re.search(meg, info).group().split('=')[1].replace(\"'\",'')\n",
    "        meg = \"\\$CONFIG\\['onick'\\]='.*?'\"#nickname\n",
    "        nick = re.search(meg, info).group().split('=')[1].replace(\"'\",'')\n",
    "        meg = \"\\$CONFIG\\['location'\\]='page_[0-9]*_home'\"#location\n",
    "        location = re.search(meg, info).group().split('=')[1].replace(\"'\",'')\n",
    "        meg = \"\\$CONFIG\\['sex'\\]='[a-z]*'\"#sex\n",
    "        sex = re.search(meg, info).group().split('=')[1].replace(\"'\",'')\n",
    "        return uid,nick,location,sex\n",
    "    except:\n",
    "        print '[-] No CONFIG found!'\n",
    "        exit()\n",
    "info = get_uid(uid,jsonText)\n",
    "uid,nick,loc,sex = get_config(info)\n",
    "loc"
   ]
  },
  {
   "cell_type": "markdown",
   "metadata": {
    "collapsed": true
   },
   "source": [
    "### 发微博"
   ]
  },
  {
   "cell_type": "code",
   "execution_count": null,
   "metadata": {
    "collapsed": false
   },
   "outputs": [],
   "source": [
    "def add_new(content ,resp):\n",
    "    addurl = \"http://weibo.com/aj/mblog/add?ajwvr=6&__rnd\" + str(int(time.time()*1000))\n",
    "    data = {'text':content, 'rank':'0', 'rankid':'', 'location':'v6_content_home', 'module':'stissue', '_t':'0','appkey':'',\n",
    "           'tyle_type':'1', 'pic_id':'', 'pdetail':'', 'pub_source':'main_', 'pub_type':'dialog' }\n",
    "    headers = {}\n",
    "    headers['set-cookie'] = resp.headers['set-cookie']\n",
    "    headers['Referer'] = 'http://weibo.com/u/'+str(uid)+'/home'\n",
    "    respon = session.post(addurl, data, headers=headers)\n",
    "    if respon.status_code == 200:\n",
    "        print '[+] post success!'\n",
    "    else:\n",
    "        print '[-] post failed!'\n",
    "        exit(1)\n",
    "add_new(\"I'm a test\", jsonText)"
   ]
  },
  {
   "cell_type": "markdown",
   "metadata": {},
   "source": [
    "### 自动转发"
   ]
  },
  {
   "cell_type": "code",
   "execution_count": null,
   "metadata": {
    "collapsed": false
   },
   "outputs": [],
   "source": [
    "#\n",
    "def forward(mid, content, domain):\n",
    "    forwardurl = 'http://d.weibo.com/aj/v6/mblog/forward?ajwvr=6&domain='+str(domain)+'&__rnd=' + str(int(time.time()*1000))\n",
    "    data = {\n",
    "        'pic_src':'',\n",
    "        'pic_id':'',\n",
    "        'appkey':'',\n",
    "        'mid':str(mid), \n",
    "        'style-type':1,\n",
    "        'mark':'',\n",
    "        'reason':content, \n",
    "        'location':'page_'+str(domain)+'_home',\n",
    "        'pdetail':str(domain),\n",
    "        'module':'',\n",
    "        'page_module_id':'',\n",
    "        'refer_sort':'',\n",
    "        'rank':0,\n",
    "        'rankid':'',\n",
    "        'filter_actionlog':'102803_ctg1_99991_-_ctg1_99991',\n",
    "        '_t':0,\n",
    "    }\n",
    "    headers = {}\n",
    "    headers['set-cookie'] = jsonText.headers['set-cookie']\n",
    "    headers['Referer'] = 'http://d.weibo.com/'\n",
    "    respon = session.post(forwardurl, data, headers=headers)\n",
    "    if respon.status_code == 200:\n",
    "        print '[+] post success!'\n",
    "        print respon.content\n",
    "    else:\n",
    "        print '[-] post failed!'\n",
    "        exit(1)\n",
    "forward(3930416564614210, \"zhuanfa\", 102803)"
   ]
  },
  {
   "cell_type": "markdown",
   "metadata": {},
   "source": [
    "### 自动关注"
   ]
  },
  {
   "cell_type": "code",
   "execution_count": null,
   "metadata": {
    "collapsed": false
   },
   "outputs": [],
   "source": [
    "#dstuid代表名字，fname代表关注人的名字，oid是登陆时获取的你的账号id，resp用来提供cookie\n",
    "#/gaoyuanyuan?is_hot=1，爬虫需要注意昵称\n",
    "def followed(dstuid,fname,oid,resp,loc):\n",
    "        followedurl = \"http://weibo.com/aj/f/followed?ajwvr=6&__rnd=\" + str(int(time.time()*1000))\n",
    "        data = {'uid':dstuid,\n",
    "                'objectid':'',\n",
    "                'f':'1',\n",
    "                'extra':'',\n",
    "                'refer_sort':'',\n",
    "                'refer_flag':'',\n",
    "                'location':loc,#通过\n",
    "                'oid':dstuid,\n",
    "                'wforce':'1',\n",
    "                'nogroup':'false',\n",
    "                'fnick':fname,\n",
    "                '_t':'0'\n",
    "                }\n",
    "        headers = {}\n",
    "        headers['set-cookie'] = resp.headers['set-cookie']\n",
    "        headers['Referer'] = 'http://weibo.com/u/'+dstuid+'?is_hot=1'\n",
    "        respon = session.post(followedurl, data, headers=headers)\n",
    "        if respon.status_code == 200:\n",
    "        print '[+] post success!'\n",
    "    else:\n",
    "        print '[-] post failed!'\n",
    "        exit(1)\n",
    "followed('2182038504','我的前任是极品',uid,jsonText,loc)"
   ]
  }
 ],
 "metadata": {
  "kernelspec": {
   "display_name": "Python 2",
   "language": "python",
   "name": "python2"
  },
  "language_info": {
   "codemirror_mode": {
    "name": "ipython",
    "version": 2
   },
   "file_extension": ".py",
   "mimetype": "text/x-python",
   "name": "python",
   "nbconvert_exporter": "python",
   "pygments_lexer": "ipython2",
   "version": "2.7.6"
  }
 },
 "nbformat": 4,
 "nbformat_minor": 0
}
