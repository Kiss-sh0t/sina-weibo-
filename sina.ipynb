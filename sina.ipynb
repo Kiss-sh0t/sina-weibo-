{
 "cells": [
  {
   "cell_type": "markdown",
   "metadata": {},
   "source": [
    "## [新浪微博](http://weibo.com)\n",
    "- 模拟登陆\n",
    "- 模拟发帖\n",
    "- 模拟转发\n",
    "- 模拟关注"
   ]
  },
  {
   "cell_type": "markdown",
   "metadata": {},
   "source": [
    "### 模拟登陆"
   ]
  },
  {
   "cell_type": "code",
   "execution_count": 2,
   "metadata": {
    "collapsed": false,
    "scrolled": true
   },
   "outputs": [
    {
     "data": {
      "text/plain": [
       "'<html>\\n<head>\\n<meta http-equiv=\"Content-Type\" content=\"text/html; charset=GBK\" />\\n<title>Sina Passport</title>\\n\\n\\n<script charset=\"utf-8\" src=\"http://i.sso.sina.com.cn/js/ssologin.js\"></script>\\n</head>\\n<body>\\nSigning in ...\\n<script>\\ntry{sinaSSOController.setCrossDomainUrlList({\"retcode\":0,\"arrURL\":[\"http:\\\\/\\\\/crosdom.weicaifu.com\\\\/sso\\\\/crosdom?action=login&savestate=1484186433\",\"http:\\\\/\\\\/passport.97973.com\\\\/sso\\\\/crossdomain?action=login&savestate=1484186433\",\"http:\\\\/\\\\/passport.weibo.cn\\\\/sso\\\\/crossdomain?action=login&savestate=1\"]});}\\n\\t\\tcatch(e){\\n\\t\\t\\tvar msg = e.message;\\n\\t\\t\\tvar img = new Image();\\n\\t\\t\\tvar type = 1;\\n\\t\\t\\timg.src = \\'http://login.sina.com.cn/sso/debuglog?msg=\\' + msg +\\'&type=\\' + type;\\n\\t\\t}try{sinaSSOController.crossDomainAction(\\'login\\',function(){location.replace(\\'http://weibo.com/ajaxlogin.php?framelogin=1&callback=parent.sinaSSOController.feedBackUrlCallBack&sudaref=weibo.com&ssosavestate=1484186433&ticket=ST-NTY4NzYyNTQ0NQ==-1452650433-xd-BD16E94F40AC311155A36D90122B1CBD&retcode=0\\');});}\\n\\t\\tcatch(e){\\n\\t\\t\\tvar msg = e.message;\\n\\t\\t\\tvar img = new Image();\\n\\t\\t\\tvar type = 2;\\n\\t\\t\\timg.src = \\'http://login.sina.com.cn/sso/debuglog?msg=\\' + msg +\\'&type=\\' + type;\\n\\t\\t}\\n</script>\\n</body>\\n</html>'"
      ]
     },
     "execution_count": 2,
     "metadata": {},
     "output_type": "execute_result"
    }
   ],
   "source": [
    "#encoding=utf-8\n",
    "import re\n",
    "import rsa\n",
    "import urllib,urllib2\n",
    "import json\n",
    "import binascii\n",
    "import time\n",
    "import requests\n",
    "\n",
    "#user,password用户名密码,使用自己注册的sina用户名密码\n",
    "username = '123456789' #your username\n",
    "password = '123456789' #your password\n",
    "\n",
    "\n",
    "\n",
    "#访问网页时，su指向用户名（urlencode后）base64，_后跟时间\n",
    "session = requests.Session()\n",
    "su = urllib.quote(username)\n",
    "su = binascii.b2a_base64(su).strip()\n",
    "pre_url = 'http://login.sina.com.cn/sso/prelogin.php?entry=weibo&callback=sinaSSOController.preloginCallBack&su='+su+'&rsakt=mod&checkpin=1&client=ssologin.js(v1.4.18)&_='+str((int(time.time()*100)))\n",
    "login_url = 'http://login.sina.com.cn/sso/login.php?client=ssologin.js(v1.4.18)'\n",
    "\n",
    "#\n",
    "req = urllib2.Request(pre_url)\n",
    "req.add_header('User-Agent','Mozilla/5.0 (Windows NT 6.1) AppleWebKit/537.36 (KHTML, like Gecko) Chrome/27.0.1453.116')\n",
    "req.add_header('Accept','*/*')\n",
    "req.add_header('Accept-Language','en-US,en;q=0.5')\n",
    "req.add_header('Accept-Encoding','deflate')\n",
    "req.add_header('Referer','http://weibo.com/login.php')\n",
    "response = urllib2.urlopen(req)\n",
    "jsonText = response.read()\n",
    "\n",
    "m = re.search('{.*}',jsonText)\n",
    "if m != None:\n",
    "    data = m.group()\n",
    "else:\n",
    "    print '[-] can not find preloginCallBack Func, please try to check the pre_url!'\n",
    "    exit()\n",
    "data = json.loads(data)\n",
    "servertime = str(data['servertime'])\n",
    "nonce = data['nonce']\n",
    "pubkey = data['pubkey']\n",
    "rsakv = data['rsakv']\n",
    "time.sleep(10)\n",
    "\n",
    "#encode username\n",
    "su = urllib.quote(username)\n",
    "su = binascii.b2a_base64(su).strip()\n",
    "#encode password\n",
    "rsaPublickey = int(pubkey, 16)\n",
    "key = rsa.PublicKey(rsaPublickey, 65537)\n",
    "message = str(servertime) + '\\t' + str(nonce) + '\\n' + str(password)\n",
    "pwd = binascii.b2a_hex(rsa.encrypt(message, key))\n",
    "\n",
    "#post data\n",
    "postdata = {\n",
    "                    'entry': 'weibo',\n",
    "                    'gateway': '1',\n",
    "                    'from': '',\n",
    "                    'savestate': '7',\n",
    "                    'pagerefer':'http://login.sina.com.cn/sso/logout.php?entry=miniblog&r=http://weibo.com/logout.php?backurl=/',\n",
    "                    'userticket': '1',\n",
    "                    'ssosimplelogin': '1',\n",
    "                    'vsnf': '1',\n",
    "                    'vsnval': '',\n",
    "                    'su': su,\n",
    "                    'service': 'miniblog',\n",
    "                    'servertime': servertime,\n",
    "                    'nonce': nonce,\n",
    "                    'pwencode': 'rsa2',\n",
    "                    'sp': pwd,\n",
    "                    'encoding': 'UTF-8',\n",
    "                    'url': 'http://weibo.com/ajaxlogin.php?framelogin=1&callback=parent.sinaSSOController.feedBackUrlCallBack',\n",
    "                    'returntype': 'META',\n",
    "                    'rsakv' : rsakv,\n",
    "                    'sr': '1440*900',\n",
    "                    }\n",
    "#req = urllib2.Request(login_url)\n",
    "headers = {}\n",
    "headers['User-Agent'] = 'Mozilla/5.0 (Windows NT 6.1) AppleWebKit/537.36 (KHTML, like Gecko) Chrome/27.0.1453.116'\n",
    "headers['Accept'] = '*/*'\n",
    "headers['Accept-Language'] = 'en-US,en;q=0.5'\n",
    "headers['Accept-Encoding'] = 'deflate'\n",
    "headers['Referer'] = 'http://weibo.com/'\n",
    "headers['Content-Type'] =  'application/x-www-form-urlencoded'\n",
    "jsonText = session.post(login_url, postdata, headers = headers)\n",
    "jsonText.content"
   ]
  },
  {
   "cell_type": "code",
   "execution_count": 4,
   "metadata": {
    "collapsed": false
   },
   "outputs": [
    {
     "data": {
      "text/plain": [
       "{'LB_HEADER': 'alice27', 'DPOOL_HEADER': 'alice96', 'Transfer-Encoding': 'chunked', 'Set-Cookie': 'TC-Page-G0=1bbd8b9d418fd852a6ba73de929b3d0c;Path=/', 'Expires': 'Sat, 26 Jul 1997 05:00:00 GMT', 'Vary': 'Accept-Encoding', 'Server': 'WeiBo', 'Connection': 'close', 'Pragma': 'no-cache', 'Cache-Control': 'no-cache, must-revalidate', 'Date': 'Wed, 13 Jan 2016 02:00:52 GMT', 'Content-Type': 'text/html; charset=utf-8'}"
      ]
     },
     "execution_count": 4,
     "metadata": {},
     "output_type": "execute_result"
    }
   ],
   "source": [
    "#search pages\n",
    "sea_url = re.search(\"replace\\('(.*)'\\)\",jsonText.content)\n",
    "if sea_url is not None:\n",
    "    sea_url =  sea_url.group().replace('replace(\\'','').replace('\\')','')\n",
    "else:\n",
    "    print '[-] login failed, can not reach sign in pages, please try to avoid identifying code in login process!'\n",
    "    exit(0)\n",
    "\n",
    "# visit the search url and get unique id\n",
    "headers = {}\n",
    "headers['User-Agent'] = 'Mozilla/5.0 (Windows NT 6.1) AppleWebKit/537.36 (KHTML, like Gecko) Chrome/27.0.1453.116'\n",
    "headers['Accept'] = '*/*'\n",
    "headers['Accept-Language'] = 'en-US,en;q=0.5'\n",
    "headers['Accept-Encoding'] = 'deflate'\n",
    "headers['Referer'] = login_url\n",
    "headers['Content-Type'] =  'application/x-www-form-urlencoded'\n",
    "jsonText = session.get(sea_url, headers = headers)\n",
    "content = jsonText.content\n",
    "#get uid\n",
    "m = re.search('\"uniqueid\":\"(\\d+)\"', content)\n",
    "if m is not None:\n",
    "    uid =  m.group().split(':')[1].replace('\"','')\n",
    "else:\n",
    "    print '[-] can not locate your uniqueid, please check if you can locate to arg sea_url!'\n",
    "    exit(0)\n",
    "#get cookies\n",
    "personal_url = 'http://weibo.com/u/'+str(uid)\n",
    "headers = {}\n",
    "headers['User-Agent'] = 'Mozilla/5.0 (Windows NT 6.1) AppleWebKit/537.36 (KHTML, like Gecko) Chrome/27.0.1453.116'\n",
    "headers['Accept'] = '*/*'\n",
    "headers['Accept-Language'] = 'en-US,en;q=0.5'\n",
    "headers['Accept-Encoding'] = 'deflate'\n",
    "headers['Referer'] = login_url\n",
    "\n",
    "headers['Content-Type'] =  'application/x-www-form-urlencoded'\n",
    "jsonText = session.get(personal_url, headers = headers)\n",
    "jsonText.headers"
   ]
  },
  {
   "cell_type": "markdown",
   "metadata": {
    "collapsed": true
   },
   "source": [
    "### 发微博"
   ]
  },
  {
   "cell_type": "code",
   "execution_count": 23,
   "metadata": {
    "collapsed": false
   },
   "outputs": [
    {
     "name": "stdout",
     "output_type": "stream",
     "text": [
      "[+] post success!\n",
      "{\"code\":\"100000\",\"msg\":\"\",\"data\":{\"html\":\"\\t\\t \\n\\t\\t\\t\\t\\t\\t    \\t    \\t\\t    \\t    \\t    \\t    \\t    \\t\\t    \\t<div   tbinfo=\\\"ouid=5687625445\\\"  diss-data=\\\"group_source=\\\" class=\\\"WB_cardwrap WB_feed_type S_bg2\\\"  mid=\\\"3930833410655884\\\"  action-type=\\\"feed_list_item\\\"  >\\n         <div class=\\\"WB_feed_detail clearfix\\\" node-type=\\\"feed_content\\\" \\n    \\t>\\n    \\t                <div class=\\\"WB_screen W_fr\\\">\\n            <div class=\\\"screen_box\\\">\\n                <a href=\\\"javascript:void(0);\\\" action-type=\\\"fl_menu\\\"><i class=\\\"W_ficon ficon_arrow_down S_ficon\\\">c<\\/i><\\/a>\\r\\n<div class=\\\"layer_menu_list\\\" node-type=\\\"fl_menu_right\\\" style=\\\"display:none; position: absolute; z-index: 999;\\\">\\r\\n    <ul>\\r\\n                        <li><a href=\\\"javascript:;\\\" action-type=\\\"feed_list_delete\\\" title=\\\"\\u5220\\u9664\\\">\\u5220\\u9664<\\/a><\\/li>\\r\\n                \\t<li><a href=\\\"javascript:;\\\" action-type=\\\"fl_friendVisible\\\" action-data=\\\"visible=2\\\" title=\\\"\\u8f6c\\u6362\\u4e3a\\u597d\\u53cb\\u5708\\u53ef\\u89c1\\\">\\u8f6c\\u6362\\u4e3a\\u597d\\u53cb\\u5708\\u53ef\\u89c1<\\/a><\\/li>\\r\\n        \\t<li><a href=\\\"javascript:;\\\" action-type=\\\"fl_personalVisible\\\" action-data=\\\"visible=1\\\" title=\\\"\\u8f6c\\u6362\\u4e3a\\u4ec5\\u81ea\\u5df1\\u53ef\\u89c1\\\">\\u8f6c\\u6362\\u4e3a\\u4ec5\\u81ea\\u5df1\\u53ef\\u89c1<\\/a><\\/li>\\r\\n                 <\\/ul>\\r\\n            <ul style=\\\"display:none;\\\" node-type=\\\"hide\\\">\\r\\n        \\t\\t<li><a action-type=\\\"feed_list_shield_setkeyword\\\" href=\\\"javascript:void(0)\\\" suda-data=\\\"key=tblog_screen_keyword&value=screen_keyword\\\" action-data=\\\"member_type=\\\" title=\\\"\\u5c4f\\u853d\\u5173\\u952e\\u8bcd\\\">\\u5c4f\\u853d\\u5173\\u952e\\u8bcd<\\/a><\\/li>\\r\\n    <\\/ul>\\r\\n             <\\/div>\\n            <\\/div>\\n        <\\/div>\\n        <div class=\\\"WB_face W_fl\\\">\\n            <div class=\\\"face\\\"><a target=\\\"_blank\\\" class=\\\"W_face_radius\\\" suda-uatrack=\\\"key=feed_headnick&value=pubuser_head:3930833410655884\\\"  href=\\\"\\/u\\/5687625445?from=feed&loc=avatar\\\" title=\\\"\\u840c\\u840c\\u7684Saraphines\\\"><img usercard=\\\"id=5687625445\\\" title=\\\"\\u840c\\u840c\\u7684Saraphines\\\" alt=\\\"\\\" width=\\\"50\\\" height=\\\"50\\\" src=\\\"http:\\/\\/tp2.sinaimg.cn\\/5687625445\\/50\\/5745198459\\/1\\\" class=\\\"W_face_radius\\\" \\/><\\/a><\\/div>\\n                    <\\/div>\\n        <div class=\\\"WB_detail\\\">\\n                <div class=\\\"WB_info\\\"><a suda-uatrack=\\\"key=feed_headnick&value=pubuser_nick:3930833410655884\\\" target=\\\"_blank\\\"  class=\\\"W_f14 W_fb S_txt1\\\" nick-name=\\\"\\u840c\\u840c\\u7684Saraphines\\\" title=\\\"\\u840c\\u840c\\u7684Saraphines\\\" href=\\\"\\/u\\/5687625445?from=feed&loc=nickname\\\" title=\\\"\\u840c\\u840c\\u7684Saraphines\\\" usercard=\\\"id=5687625445\\\">\\n                \\u840c\\u840c\\u7684Saraphines<\\/a>                <\\/div>\\n            <div class=\\\"WB_text W_f14\\\" node-type=\\\"feed_list_content\\\" >I'm a test<\\/div>\\n                                                                            \\t\\t\\t            <div class=\\\"WB_from S_txt2\\\">\\n            <a target=\\\"_blank\\\" href=\\\"\\/5687625445\\/DcW7j2KCM?ref=\\\" title=\\\"2016-01-13 14:39\\\" date=\\\"1452667179000\\\" class=\\\"S_txt2\\\" node-type=\\\"feed_list_item_date\\\" suda-data=\\\"key=tblog_home_new&value=feed_time:3930833410655884\\\"> 10\\u79d2\\u524d<\\/a> \\n             \\u6765\\u81ea                                 <a class=\\\"S_txt2\\\" suda-data=\\\"key=tblog_home_new&value=feed_come_from\\\" action-type=\\\"app_source\\\" target=\\\"_blank\\\" href=\\\"http:\\/\\/app.weibo.com\\/t\\/feed\\/69yt1V\\\" rel=\\\"nofollow\\\">\\u5fae\\u535a weibo.com<\\/a>                                        <\\/div>\\n       <\\/div>\\n    <\\/div>\\n    <div class=\\\"WB_feed_handle\\\">\\n        <div class=\\\"WB_handle\\\">\\n            <ul class=\\\"WB_row_line WB_row_r4 clearfix S_line2\\\">\\n                <li>\\n                                        <a class=\\\"S_txt2\\\" href=\\\"javascript:void(0);\\\" action-type=\\\"fl_pop\\\" action-data=\\\"mid=3930833410655884\\\" suda-uatrack=\\\"key=tblog_fstt&value=pop_butt_home\\\"><span class=\\\"pos\\\"><span class=\\\"line S_line1\\\">\\u63a8\\u5e7f<\\/span><\\/span><\\/a>\\n                                    <\\/li>\\n                                <li>\\n                    <a class=\\\"S_txt2\\\"  suda-data=\\\"key=smart_feed&value=time_sort_tran:3930833410655884\\\" href=\\\"javascript:void(0);\\\" action-history=\\\"rec=1\\\" action-type=\\\"fl_forward\\\" action-data=\\\"allowForward=1&url=http:\\/\\/weibo.com\\/5687625445\\/DcW7j2KCM&mid=3930833410655884&name=\\u840c\\u840c\\u7684Saraphines&uid=5687625445&domain=5687625445\\\" ><span class=\\\"pos\\\"><span class=\\\"line S_line1\\\" node-type=\\\"forward_btn_text\\\">\\u8f6c\\u53d1 <\\/span><\\/span><\\/a>\\n                <\\/li>\\n                                <li>\\n                                    <a class=\\\"S_txt2\\\" suda-data=\\\"key=smart_feed&value=time_sort_comm:3930833410655884\\\" href=\\\"javascript:void(0);\\\" action-type=\\\"fl_comment\\\" action-data=\\\"ouid=5687625445&location=\\\"><span class=\\\"pos\\\"><span class=\\\"line S_line1\\\"  node-type=\\\"comment_btn_text\\\">\\n                    \\u8bc4\\u8bba <\\/span><\\/span><\\/a>\\n                    <span class=\\\"arrow\\\" style=\\\"display: none;\\\" node-type=\\\"cmtarrow\\\"><span class=\\\"W_arrow_bor W_arrow_bor_t\\\"><i class=\\\"S_line1\\\"><\\/i><em class=\\\"S_bg1_br\\\"><\\/em><\\/span><\\/span>\\n                                                <\\/li>\\n                <li>\\n                    <a href=\\\"javascript:void(0);\\\" class=\\\"S_txt2\\\" action-type=\\\"fl_like\\\"  action-data=\\\"version=mini&qid=heart&mid=3930833410655884&like_src=1\\\" title=\\\"\\u8d5e\\\" ><span class=\\\"pos\\\"><span class=\\\"line S_line1\\\"><span node-type=\\\"like_status\\\"><i class=\\\"W_icon icon_praised_b\\\"><\\/i> <em><\\/em><\\/span><\\/span><\\/span><\\/a>\\n                <\\/li>\\n            <\\/ul>\\n        <\\/div>\\n        <div node-type=\\\"feed_list_repeat\\\" class=\\\"WB_feed_repeat S_bg1\\\" style=\\\"display:none;\\\"><\\/div>\\n                \\n                <\\/div>\\n         \\n<\\/div>\\n\\t    \\t\\t\\t\\t\"}}\n"
     ]
    }
   ],
   "source": [
    "def add_new(content ,resp):\n",
    "    addurl = \"http://weibo.com/aj/mblog/add?ajwvr=6&__rnd\" + str(int(time.time()*1000))\n",
    "    data = {'text':content, 'rank':'0', 'rankid':'', 'location':'v6_content_home', 'module':'stissue', '_t':'0','appkey':'',\n",
    "           'tyle_type':'1', 'pic_id':'', 'pdetail':'', 'pub_source':'main_', 'pub_type':'dialog' }\n",
    "    headers = {}\n",
    "    headers['set-cookie'] = resp.headers['set-cookie']\n",
    "    headers['Referer'] = 'http://weibo.com/u/'+str(uid)+'/home'\n",
    "    respon = session.post(addurl, data, headers=headers)\n",
    "    if respon.status_code == 200:\n",
    "        print '[+] post success!'\n",
    "    else:\n",
    "        print '[-] post failed!'\n",
    "        exit(1)\n",
    "add_new(\"I'm a test\", jsonText)"
   ]
  },
  {
   "cell_type": "markdown",
   "metadata": {},
   "source": [
    "### 自动转发"
   ]
  },
  {
   "cell_type": "code",
   "execution_count": 31,
   "metadata": {
    "collapsed": false
   },
   "outputs": [
    {
     "name": "stdout",
     "output_type": "stream",
     "text": [
      "[+] post success!\n",
      "{\"code\":\"100000\",\"msg\":\"\",\"data\":{\"html\":\"\\t\\t \\n\\t\\t\\t\\t\\t\\t    \\t    \\t\\t    \\t    \\t    \\t    \\t    \\t\\t    \\t<div  minfo=\\\"ru=3229125510&rm=3930416564614210\\\" tbinfo=\\\"ouid=5687625445&rouid=3229125510\\\"  diss-data=\\\"group_source=\\\" class=\\\"WB_cardwrap WB_feed_type S_bg2\\\"  mid=\\\"3930845444299810\\\" isForward=\\\"1\\\" omid=\\\"3930416564614210\\\"  action-type=\\\"feed_list_item\\\"  >\\n         <div class=\\\"WB_feed_detail clearfix\\\" node-type=\\\"feed_content\\\" \\n    \\t>\\n    \\t                <div class=\\\"WB_screen W_fr\\\">\\n            <div class=\\\"screen_box\\\">\\n                <a href=\\\"javascript:void(0);\\\" action-type=\\\"fl_menu\\\"><i class=\\\"W_ficon ficon_arrow_down S_ficon\\\">c<\\/i><\\/a>\\r\\n<div class=\\\"layer_menu_list\\\" node-type=\\\"fl_menu_right\\\" style=\\\"display:none; position: absolute; z-index: 999;\\\">\\r\\n    <ul>\\r\\n                        <li><a href=\\\"javascript:;\\\" action-type=\\\"feed_list_delete\\\" title=\\\"\\u5220\\u9664\\\">\\u5220\\u9664<\\/a><\\/li>\\r\\n                \\t<li><a href=\\\"javascript:;\\\" action-type=\\\"fl_friendVisible\\\" action-data=\\\"visible=2\\\" title=\\\"\\u8f6c\\u6362\\u4e3a\\u597d\\u53cb\\u5708\\u53ef\\u89c1\\\">\\u8f6c\\u6362\\u4e3a\\u597d\\u53cb\\u5708\\u53ef\\u89c1<\\/a><\\/li>\\r\\n        \\t<li><a href=\\\"javascript:;\\\" action-type=\\\"fl_personalVisible\\\" action-data=\\\"visible=1\\\" title=\\\"\\u8f6c\\u6362\\u4e3a\\u4ec5\\u81ea\\u5df1\\u53ef\\u89c1\\\">\\u8f6c\\u6362\\u4e3a\\u4ec5\\u81ea\\u5df1\\u53ef\\u89c1<\\/a><\\/li>\\r\\n                 <\\/ul>\\r\\n            <ul style=\\\"display:none;\\\" node-type=\\\"hide\\\">\\r\\n        \\t\\t<li><a action-type=\\\"feed_list_shield_setkeyword\\\" href=\\\"javascript:void(0)\\\" suda-data=\\\"key=tblog_screen_keyword&value=screen_keyword\\\" action-data=\\\"member_type=\\\" title=\\\"\\u5c4f\\u853d\\u5173\\u952e\\u8bcd\\\">\\u5c4f\\u853d\\u5173\\u952e\\u8bcd<\\/a><\\/li>\\r\\n    <\\/ul>\\r\\n             <\\/div>\\n            <\\/div>\\n        <\\/div>\\n        <div class=\\\"WB_face W_fl\\\">\\n            <div class=\\\"face\\\"><a target=\\\"_blank\\\" class=\\\"W_face_radius\\\" suda-uatrack=\\\"key=feed_headnick&value=pubuser_head:3930845444299810\\\"  href=\\\"\\/u\\/5687625445?from=feed&loc=avatar\\\" title=\\\"\\u840c\\u840c\\u7684Saraphines\\\"><img usercard=\\\"id=5687625445\\\" title=\\\"\\u840c\\u840c\\u7684Saraphines\\\" alt=\\\"\\\" width=\\\"50\\\" height=\\\"50\\\" src=\\\"http:\\/\\/tp2.sinaimg.cn\\/5687625445\\/50\\/5745198459\\/1\\\" class=\\\"W_face_radius\\\" \\/><\\/a><\\/div>\\n                    <\\/div>\\n        <div class=\\\"WB_detail\\\">\\n                <div class=\\\"WB_info\\\"><a suda-uatrack=\\\"key=feed_headnick&value=pubuser_nick:3930845444299810\\\" target=\\\"_blank\\\"  class=\\\"W_f14 W_fb S_txt1\\\" nick-name=\\\"\\u840c\\u840c\\u7684Saraphines\\\" title=\\\"\\u840c\\u840c\\u7684Saraphines\\\" href=\\\"\\/u\\/5687625445?from=feed&loc=nickname\\\" title=\\\"\\u840c\\u840c\\u7684Saraphines\\\" usercard=\\\"id=5687625445\\\">\\n                \\u840c\\u840c\\u7684Saraphines<\\/a>                <\\/div>\\n            <div class=\\\"WB_text W_f14\\\" node-type=\\\"feed_list_content\\\" >zhuanfa<\\/div>\\n                                                <div class=\\\"WB_feed_expand\\\">\\n                \\t<div class=\\\"W_arrow_bor W_arrow_bor_t\\\"><i class=\\\"S_bg1_br\\\"><\\/i><\\/div>\\n                \\t\\n                \\t<div class=\\\"WB_expand S_bg1\\\" node-type=\\\"feed_list_forwardContent\\\">\\n                                    \\t                            <div class=\\\"WB_info\\\">\\n                                                    <a target=\\\"_blank\\\" suda-uatrack=\\\"key=feed_headnick&value=transuser_nick:3930416564614210\\\" class=\\\"W_fb S_txt1\\\"  node-type='feed_list_originNick' nick-name=\\\"\\u5c0f\\u91ce\\u59b9\\u5b50\\u5b66\\u5410\\u69fd\\\" href=\\\"\\/xuetucao?from=feed&loc=nickname\\\" title=\\\"\\u5c0f\\u91ce\\u59b9\\u5b50\\u5b66\\u5410\\u69fd\\\" usercard=\\\"id=3229125510\\\">\\n                    @\\u5c0f\\u91ce\\u59b9\\u5b50\\u5b66\\u5410\\u69fd<\\/a><a target=\\\"_blank\\\"  suda-data=\\\"key=pc_apply_entry&value=feed_icon\\\" href=\\\"http:\\/\\/verified.weibo.com\\/verify\\\"><i title= \\\"\\u5fae\\u535a\\u4e2a\\u4eba\\u8ba4\\u8bc1 \\\" class=\\\"W_icon icon_approve\\\"><\\/i><\\/a><a action-type=\\\"ignore_list\\\" suda-uatrack=\\\"key=home_vip&value=home_feed_vip\\\" title=\\\"\\u5fae\\u535a\\u4f1a\\u5458\\\" target=\\\"_blank\\\" href=\\\"http:\\/\\/vip.weibo.com\\/personal?from=main\\\"><em class=\\\"W_icon icon_member6\\\"><\\/em><\\/a><a target=\\\"_blank\\\" href=\\\"http:\\/\\/huodong.weibo.com\\/hongbao2016\\/?ref=icon\\\" title=\\\"2016\\u8ba9\\u7ea2\\u5305\\u98de\\\"><i class=\\\"W_icon icon_redpack\\\"><\\/i><\\/a>                        <\\/div>\\n                                                <div class=\\\"WB_text\\\" node-type=\\\"feed_list_reason\\\" >\\u8fd1\\u6765\\u770b\\u5230\\u7684\\u6700\\u5fc3\\u75bc\\u7684\\u65b0\\u95fb\\uff1a\\u82ac\\u5170\\u7684\\u68ee\\u6797\\u516c\\u56ed\\u62a4\\u6797\\u5458\\u4e00\\u5e74\\u4e2d75%\\u7684\\u5de5\\u4f5c\\uff0c\\u662f\\u5728\\u832b\\u832b\\u6797\\u6d77\\u4e2d\\u641c\\u6551\\u56e0\\u62cd\\u4e13\\u8f91\\u5c01\\u9762\\u800c\\u8ff7\\u8def\\u7684\\u91cd\\u91d1\\u5c5e\\u4e50\\u961f\\u6210\\u5458\\u2026\\u2026\\u5c31\\u4e0d\\u80fd\\u8001\\u8001\\u5b9e\\u5b9e\\u5728\\u5bb6\\u7ec3\\u7434\\u5417<img render=\\\"ext\\\" src=\\\"http:\\/\\/img.t.sinajs.cn\\/t4\\/appstyle\\/expression\\/ext\\/normal\\/34\\/xiaoku_org.gif\\\" title=\\\"[\\u7b11cry]\\\" alt=    \\\"[\\u7b11cry]\\\" type=\\\"face\\\" \\/><\\/div>\\n                                                                            <!-- \\u5fae\\u535a\\u5fc3\\u60c5\\uff0c\\u72ec\\u7acb\\u4e8e\\u6807\\u51c6\\u7684ul\\u8282\\u70b9 -->\\n<!-- \\u7279\\u578b\\u5e7f\\u544afeed -->\\n                    <div class=\\\"WB_media_wrap clearfix\\\" node-type=\\\"feed_list_media_prev\\\">\\n          <div class=\\\"media_box\\\">\\n                                         <!-- img\\u4e4b\\u95f4\\u4e0d\\u80fd\\u52a0\\u7a7a\\u683c -->\\n                                                        \\t                <ul class=\\\"WB_media_a WB_media_a_m1 clearfix\\\">\\n                <li class=\\\"WB_pic S_bg2 bigcursor\\\" action-type=\\\"feed_list_media_img\\\" action-data=\\\"uid=3229125510&amp;mid=3930416564614210&amp;pid=c0788b86gw1ezwj5kn5u0j20e80e8q4v&pic_objects=&amp;object_ids=1042018%3A9706d0bf8b90525b53cb7af1649cbbab&photo_tag_pids=&photo_filter_ids=\\\" suda-data=\\\"key=feed_image_click&value=image_zoomin:3930416564614210:\\\"><img  class=\\\"bigcursor\\\" node-type=\\\"fl_media_bgimg\\\" src=\\\"http:\\/\\/ww1.sinaimg.cn\\/thumbnail\\/c0788b86gw1ezwj5kn5u0j20e80e8q4v.jpg\\\" alt=\\\"\\\"\\/><i style=\\\"display:none;\\\" class=\\\"W_loading\\\"><\\/i><\\/li>\\n                <\\/ul>\\n                                \\n                     <\\/div>\\n<\\/div>\\n \\n                                                <div class=\\\"WB_expand_media_box\\\" style=\\\"display: none;\\\" node-type=\\\"feed_list_media_disp\\\"><\\/div>\\n                                                <div class=\\\"WB_func clearfix\\\">\\n                            <div class=\\\"WB_handle W_fr\\\" mid=\\\"3930416564614210\\\">\\n                            \\t<ul class=\\\"clearfix\\\">\\n                                <li><span class=\\\"line S_line1\\\">\\n                                <a class=\\\"S_txt2\\\" target=\\\"_blank\\\" href=\\\"\\/3229125510\\/DcLgYjmmK?type=repost\\\" suda-uatrack=\\\"key=feed_trans_weibo&value=transfer:3930416564614210\\\">\\u8f6c\\u53d1 39084<\\/a><\\/span><\\/li>\\n                                <li><span class=\\\"line S_line1\\\">\\n                                <a class=\\\"S_txt2\\\" target=\\\"_blank\\\" href=\\\"\\/3229125510\\/DcLgYjmmK\\\" suda-uatrack=\\\"key=feed_trans_weibo&value=comment:3930416564614210\\\">\\u8bc4\\u8bba 9433<\\/a>\\n                                <\\/span><\\/li>\\n                                <li><span class=\\\"line S_line1\\\">\\n                                <a class=\\\"S_txt2\\\" href=\\\"javascript:void(0);\\\" action-type=\\\"fl_like\\\" action-data=\\\"version=mini&qid=heart&mid=3930416564614210&like_src=1\\\" title=\\\"\\u8d5e\\\"><span node-type=\\\"like_status\\\"><i class=\\\"W_icon icon_praised_b\\\"><\\/i> <em>38009<\\/em><\\/span><\\/a><\\/span><\\/li>\\n                                <\\/ul>\\n                            <\\/div>\\n                            <div class=\\\"WB_from S_txt2\\\">\\n                            <a class=\\\"S_txt2\\\" target=\\\"_blank\\\" href=\\\"\\/3229125510\\/DcLgYjmmK\\\" title=\\\"2016-01-12 11:03\\\" date=\\\"1452567794000\\\" node-type=\\\"feed_list_item_date\\\" suda-uatrack=\\\"key=feed_trans_weibo&value=time:3930416564614210\\\">1\\u670812\\u65e5 11:03<\\/a> \\n                             \\u6765\\u81ea                                                                     <a class=\\\"S_txt2\\\" action-type=\\\"app_source\\\" target=\\\"_blank\\\" href=\\\"http:\\/\\/weibo.com\\/\\\" rel=\\\"nofollow\\\">\\u5fae\\u535a weibo.com<\\/a>                                                                                        <\\/div>\\n                        <\\/div>\\n                                        <\\/div>\\n                <\\/div>\\n                                    \\t\\t\\t            <div class=\\\"WB_from S_txt2\\\">\\n            <a target=\\\"_blank\\\" href=\\\"\\/5687625445\\/DcWqIi2zM?ref=\\\" title=\\\"2016-01-13 15:27\\\" date=\\\"1452670048000\\\" class=\\\"S_txt2\\\" node-type=\\\"feed_list_item_date\\\" suda-data=\\\"key=tblog_home_new&value=feed_time:3930845444299810\\\"> 10\\u79d2\\u524d<\\/a> \\n             \\u6765\\u81ea                                 <a class=\\\"S_txt2\\\" suda-data=\\\"key=tblog_home_new&value=feed_come_from\\\" action-type=\\\"app_source\\\" target=\\\"_blank\\\" href=\\\"http:\\/\\/app.weibo.com\\/t\\/feed\\/69yt1V\\\" rel=\\\"nofollow\\\">\\u5fae\\u535a weibo.com<\\/a>                                        <\\/div>\\n       <\\/div>\\n    <\\/div>\\n    <div class=\\\"WB_feed_handle\\\">\\n        <div class=\\\"WB_handle\\\">\\n            <ul class=\\\"WB_row_line WB_row_r4 clearfix S_line2\\\">\\n                <li>\\n                                        <a class=\\\"S_txt2\\\" href=\\\"javascript:void(0);\\\" action-type=\\\"fl_pop\\\" action-data=\\\"mid=3930845444299810\\\" suda-uatrack=\\\"key=tblog_fstt&value=pop_butt_home\\\"><span class=\\\"pos\\\"><span class=\\\"line S_line1\\\">\\u63a8\\u5e7f<\\/span><\\/span><\\/a>\\n                                    <\\/li>\\n                                <li>\\n                    <a class=\\\"S_txt2\\\"  suda-data=\\\"key=smart_feed&value=time_sort_tran:3930845444299810\\\" href=\\\"javascript:void(0);\\\" action-history=\\\"rec=1\\\" action-type=\\\"fl_forward\\\" action-data=\\\"allowForward=1&rootmid=3930416564614210&rootname=\\u5c0f\\u91ce\\u59b9\\u5b50\\u5b66\\u5410\\u69fd&rootuid=3229125510&rooturl=http:\\/\\/weibo.com\\/3229125510\\/DcLgYjmmK&url=http:\\/\\/weibo.com\\/5687625445\\/DcWqIi2zM&mid=3930845444299810&name=\\u840c\\u840c\\u7684Saraphines&uid=5687625445&domain=xuetucao&pid=c0788b86gw1ezwj5kn5u0j20e80e8q4v\\\" ><span class=\\\"pos\\\"><span class=\\\"line S_line1\\\" node-type=\\\"forward_btn_text\\\">\\u8f6c\\u53d1 <\\/span><\\/span><\\/a>\\n                <\\/li>\\n                                <li>\\n                                    <a class=\\\"S_txt2\\\" suda-data=\\\"key=smart_feed&value=time_sort_comm:3930845444299810\\\" href=\\\"javascript:void(0);\\\" action-type=\\\"fl_comment\\\" action-data=\\\"ouid=5687625445&location=\\\"><span class=\\\"pos\\\"><span class=\\\"line S_line1\\\"  node-type=\\\"comment_btn_text\\\">\\n                    \\u8bc4\\u8bba <\\/span><\\/span><\\/a>\\n                    <span class=\\\"arrow\\\" style=\\\"display: none;\\\" node-type=\\\"cmtarrow\\\"><span class=\\\"W_arrow_bor W_arrow_bor_t\\\"><i class=\\\"S_line1\\\"><\\/i><em class=\\\"S_bg1_br\\\"><\\/em><\\/span><\\/span>\\n                                                <\\/li>\\n                <li>\\n                    <a href=\\\"javascript:void(0);\\\" class=\\\"S_txt2\\\" action-type=\\\"fl_like\\\"  action-data=\\\"version=mini&qid=heart&mid=3930845444299810&like_src=1\\\" title=\\\"\\u8d5e\\\" ><span class=\\\"pos\\\"><span class=\\\"line S_line1\\\"><span node-type=\\\"like_status\\\"><i class=\\\"W_icon icon_praised_b\\\"><\\/i> <em><\\/em><\\/span><\\/span><\\/span><\\/a>\\n                <\\/li>\\n            <\\/ul>\\n        <\\/div>\\n        <div node-type=\\\"feed_list_repeat\\\" class=\\\"WB_feed_repeat S_bg1\\\" style=\\\"display:none;\\\"><\\/div>\\n                \\n                <\\/div>\\n         \\n<\\/div>\\n\\t    \\t\\t\\t\\t\"}}\n"
     ]
    }
   ],
   "source": [
    "#\n",
    "def forward(mid, content, domain): \n",
    "    forwardurl = 'http://d.weibo.com/aj/v6/mblog/forward?ajwvr=6&domain='+str(domain)+'&__rnd=' + str(int(time.time()*1000))\n",
    "    data = {\n",
    "        'pic_src':'',\n",
    "        'pic_id':'',\n",
    "        'appkey':'',\n",
    "        'mid':str(mid), \n",
    "        'style-type':1,\n",
    "        'mark':'',\n",
    "        'reason':content, \n",
    "        'location':'page_'+str(domain)+'_home',\n",
    "        'pdetail':str(domain),\n",
    "        'module':'',\n",
    "        'page_module_id':'',\n",
    "        'refer_sort':'',\n",
    "        'rank':0,\n",
    "        'rankid':'',\n",
    "        'filter_actionlog':'102803_ctg1_99991_-_ctg1_99991',\n",
    "        '_t':0,\n",
    "    }\n",
    "    headers = {}\n",
    "    headers['set-cookie'] = jsonText.headers['set-cookie']\n",
    "    headers['Referer'] = 'http://d.weibo.com/'\n",
    "    respon = session.post(forwardurl, data, headers=headers)\n",
    "    if respon.status_code == 200:\n",
    "        print '[+] post success!'\n",
    "        print respon.content\n",
    "    else:\n",
    "        print '[-] post failed!'\n",
    "        exit(1)\n",
    "forward(3930416564614210, \"zhuanfa\", 102803)"
   ]
  },
  {
   "cell_type": "markdown",
   "metadata": {},
   "source": [
    "### 自动关注"
   ]
  },
  {
   "cell_type": "code",
   "execution_count": 17,
   "metadata": {
    "collapsed": false
   },
   "outputs": [
    {
     "name": "stdout",
     "output_type": "stream",
     "text": [
      "200\n"
     ]
    }
   ],
   "source": [
    "#dstuid代表名字，fname代表关注人的名字，oid是登陆时获取的你的账号id，resp用来提供cookie\n",
    "#/gaoyuanyuan?is_hot=1，爬虫需要注意昵称\n",
    "def followed(dstuid,fname,oid,resp):\n",
    "        followedurl = \"http://weibo.com/aj/f/followed?ajwvr=6&__rnd=\" + str(int(time.time()*1000))\n",
    "        data = {'uid':dstuid,\n",
    "                'objectid':'',\n",
    "                'f':'1',\n",
    "                'extra':'',\n",
    "                'refer_sort':'',\n",
    "                'refer_flag':'',\n",
    "                'location':'page_100505_home',#通过\n",
    "                'oid':dstuid,\n",
    "                'wforce':'1',\n",
    "                'nogroup':'false',\n",
    "                'fnick':fname,\n",
    "                '_t':'0'\n",
    "                }\n",
    "        headers = {}\n",
    "        headers['set-cookie'] = resp.headers['set-cookie']\n",
    "        headers['Referer'] = 'http://weibo.com/u/'+dstuid+'?is_hot=1'\n",
    "        respon = session.post(followedurl, data, headers=headers)\n",
    "        if respon.status_code == 200:\n",
    "        print '[+] post success!'\n",
    "    else:\n",
    "        print '[-] post failed!'\n",
    "        exit(1)\n",
    "followed('2182038504','我的前任是极品',uid,jsonText)"
   ]
  }
 ],
 "metadata": {
  "kernelspec": {
   "display_name": "Python 2",
   "language": "python",
   "name": "python2"
  },
  "language_info": {
   "codemirror_mode": {
    "name": "ipython",
    "version": 2
   },
   "file_extension": ".py",
   "mimetype": "text/x-python",
   "name": "python",
   "nbconvert_exporter": "python",
   "pygments_lexer": "ipython2",
   "version": "2.7.6"
  }
 },
 "nbformat": 4,
 "nbformat_minor": 0
}
