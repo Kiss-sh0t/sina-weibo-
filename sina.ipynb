{
 "cells": [
  {
   "cell_type": "markdown",
   "metadata": {},
   "source": [
    "## [新浪微博](http://weibo.com)\n",
    "- 模拟登陆\n",
    "- 模拟发帖\n",
    "- 模拟转发\n",
    "- 模拟关注"
   ]
  },
  {
   "cell_type": "markdown",
   "metadata": {},
   "source": [
    "### 模拟登陆"
   ]
  },
  {
   "cell_type": "code",
   "execution_count": 2,
   "metadata": {
    "collapsed": false
   },
   "outputs": [
    {
     "data": {
      "text/plain": [
       "'<html>\\n<head>\\n<meta http-equiv=\"Content-Type\" content=\"text/html; charset=GBK\" />\\n<title>Sina Passport</title>\\n\\n\\n<script charset=\"utf-8\" src=\"http://i.sso.sina.com.cn/js/ssologin.js\"></script>\\n</head>\\n<body>\\nSigning in ...\\n<script>\\ntry{sinaSSOController.setCrossDomainUrlList({\"retcode\":0,\"arrURL\":[\"http:\\\\/\\\\/crosdom.weicaifu.com\\\\/sso\\\\/crosdom?action=login&savestate=1484634550\",\"http:\\\\/\\\\/passport.97973.com\\\\/sso\\\\/crossdomain?action=login&savestate=1484634550\",\"http:\\\\/\\\\/passport.weibo.cn\\\\/sso\\\\/crossdomain?action=login&savestate=1\"]});}\\n\\t\\tcatch(e){\\n\\t\\t\\tvar msg = e.message;\\n\\t\\t\\tvar img = new Image();\\n\\t\\t\\tvar type = 1;\\n\\t\\t\\timg.src = \\'http://login.sina.com.cn/sso/debuglog?msg=\\' + msg +\\'&type=\\' + type;\\n\\t\\t}try{sinaSSOController.crossDomainAction(\\'login\\',function(){location.replace(\\'http://weibo.com/ajaxlogin.php?framelogin=1&callback=parent.sinaSSOController.feedBackUrlCallBack&sudaref=weibo.com&ssosavestate=1484634550&ticket=ST-NTY4NzYyNTQ0NQ==-1453098550-xd-D43438E3DC5424726629E4E248FFA1E8&retcode=0\\');});}\\n\\t\\tcatch(e){\\n\\t\\t\\tvar msg = e.message;\\n\\t\\t\\tvar img = new Image();\\n\\t\\t\\tvar type = 2;\\n\\t\\t\\timg.src = \\'http://login.sina.com.cn/sso/debuglog?msg=\\' + msg +\\'&type=\\' + type;\\n\\t\\t}\\n</script>\\n</body>\\n</html>'"
      ]
     },
     "execution_count": 2,
     "metadata": {},
     "output_type": "execute_result"
    }
   ],
   "source": [
    "#encoding=utf-8\n",
    "import re\n",
    "import rsa\n",
    "import urllib,urllib2\n",
    "import json\n",
    "import binascii\n",
    "import time\n",
    "import requests\n",
    "from bs4 import BeautifulSoup\n",
    "\n",
    "#user,password用户名密码,使用自己注册的sina用户名密码\n",
    "username = '123456' #your username\n",
    "password = '123456' #your password\n",
    "\n",
    "\n",
    "\n",
    "#访问网页时，su指向用户名（urlencode后）base64，_后跟时间\n",
    "session = requests.Session()\n",
    "su = urllib.quote(username)\n",
    "su = binascii.b2a_base64(su).strip()\n",
    "pre_url = 'http://login.sina.com.cn/sso/prelogin.php?entry=weibo&callback=sinaSSOController.preloginCallBack&su='+su+'&rsakt=mod&checkpin=1&client=ssologin.js(v1.4.18)&_='+str((int(time.time()*100)))\n",
    "login_url = 'http://login.sina.com.cn/sso/login.php?client=ssologin.js(v1.4.18)'\n",
    "\n",
    "#\n",
    "req = urllib2.Request(pre_url)\n",
    "req.add_header('User-Agent','Mozilla/5.0 (Windows NT 6.1) AppleWebKit/537.36 (KHTML, like Gecko) Chrome/27.0.1453.116')\n",
    "req.add_header('Accept','*/*')\n",
    "req.add_header('Accept-Language','en-US,en;q=0.5')\n",
    "req.add_header('Accept-Encoding','deflate')\n",
    "req.add_header('Referer','http://weibo.com/login.php')\n",
    "response = urllib2.urlopen(req)\n",
    "jsonText = response.read()\n",
    "\n",
    "m = re.search('{.*}',jsonText)\n",
    "if m != None:\n",
    "    data = m.group()\n",
    "else:\n",
    "    print '[-] can not find preloginCallBack Func, please try to check the pre_url!'\n",
    "    exit()\n",
    "data = json.loads(data)\n",
    "servertime = str(data['servertime'])\n",
    "nonce = data['nonce']\n",
    "pubkey = data['pubkey']\n",
    "rsakv = data['rsakv']\n",
    "time.sleep(10)\n",
    "\n",
    "#encode username\n",
    "su = urllib.quote(username)\n",
    "su = binascii.b2a_base64(su).strip()\n",
    "#encode password\n",
    "rsaPublickey = int(pubkey, 16)\n",
    "key = rsa.PublicKey(rsaPublickey, 65537)\n",
    "message = str(servertime) + '\\t' + str(nonce) + '\\n' + str(password)\n",
    "pwd = binascii.b2a_hex(rsa.encrypt(message, key))\n",
    "\n",
    "#post data\n",
    "postdata = {\n",
    "                    'entry': 'weibo',\n",
    "                    'gateway': '1',\n",
    "                    'from': '',\n",
    "                    'savestate': '7',\n",
    "                    'pagerefer':'http://login.sina.com.cn/sso/logout.php?entry=miniblog&r=http://weibo.com/logout.php?backurl=/',\n",
    "                    'userticket': '1',\n",
    "                    'ssosimplelogin': '1',\n",
    "                    'vsnf': '1',\n",
    "                    'vsnval': '',\n",
    "                    'su': su,\n",
    "                    'service': 'miniblog',\n",
    "                    'servertime': servertime,\n",
    "                    'nonce': nonce,\n",
    "                    'pwencode': 'rsa2',\n",
    "                    'sp': pwd,\n",
    "                    'encoding': 'UTF-8',\n",
    "                    'url': 'http://weibo.com/ajaxlogin.php?framelogin=1&callback=parent.sinaSSOController.feedBackUrlCallBack',\n",
    "                    'returntype': 'META',\n",
    "                    'rsakv' : rsakv,\n",
    "                    'sr': '1440*900',\n",
    "                    }\n",
    "#req = urllib2.Request(login_url)\n",
    "headers = {}\n",
    "headers['User-Agent'] = 'Mozilla/5.0 (Windows NT 6.1) AppleWebKit/537.36 (KHTML, like Gecko) Chrome/27.0.1453.116'\n",
    "headers['Accept'] = '*/*'\n",
    "headers['Accept-Language'] = 'en-US,en;q=0.5'\n",
    "headers['Accept-Encoding'] = 'deflate'\n",
    "headers['Referer'] = 'http://weibo.com/'\n",
    "headers['Content-Type'] =  'application/x-www-form-urlencoded'\n",
    "jsonText = session.post(login_url, postdata, headers = headers)\n",
    "jsonText.content"
   ]
  },
  {
   "cell_type": "code",
   "execution_count": 3,
   "metadata": {
    "collapsed": false,
    "scrolled": false
   },
   "outputs": [
    {
     "data": {
      "text/plain": [
       "{'LB_HEADER': 'alice59', 'DPOOL_HEADER': 'alice128', 'Content-Encoding': 'gzip', 'Transfer-Encoding': 'chunked', 'Set-Cookie': 'TC-Page-G0=1ac1bd7677fc7b61611a0c3a9b6aa0b4;Path=/', 'Expires': 'Sat, 26 Jul 1997 05:00:00 GMT', 'Vary': 'Accept-Encoding', 'Server': 'WeiBo', 'Connection': 'close', 'Pragma': 'no-cache', 'Cache-Control': 'no-cache, must-revalidate', 'Date': 'Mon, 18 Jan 2016 06:30:05 GMT', 'Content-Type': 'text/html; charset=utf-8'}"
      ]
     },
     "execution_count": 3,
     "metadata": {},
     "output_type": "execute_result"
    }
   ],
   "source": [
    "#search pages\n",
    "sea_url = re.search(\"replace\\('(.*)'\\)\",jsonText.content)\n",
    "if sea_url is not None:\n",
    "    sea_url =  sea_url.group().replace('replace(\\'','').replace('\\')','')\n",
    "else:\n",
    "    print '[-] login failed, can not reach sign in pages, please try to avoid identifying code in login process!'\n",
    "    exit(0)\n",
    "\n",
    "# visit the search url and get unique id\n",
    "'''headers = {}\n",
    "headers['User-Agent'] = 'Mozilla/5.0 (Windows NT 6.1) AppleWebKit/537.36 (KHTML, like Gecko) Chrome/27.0.1453.116'\n",
    "headers['Accept'] = '*/*'\n",
    "headers['Accept-Language'] = 'en-US,en;q=0.5'\n",
    "headers['Accept-Encoding'] = 'deflate'\n",
    "headers['Referer'] = login_url\n",
    "headers['Content-Type'] =  'application/x-www-form-urlencoded'''\n",
    "jsonText = session.get(sea_url)\n",
    "content = jsonText.content\n",
    "#get uid\n",
    "m = re.search('\"uniqueid\":\"(\\d+)\"', content)\n",
    "if m is not None:\n",
    "    uid =  m.group().split(':')[1].replace('\"','')\n",
    "else:\n",
    "    print '[-] can not locate your uniqueid, please check if you can locate to arg sea_url!'\n",
    "    exit(0)\n",
    "#get cookies\n",
    "personal_url = 'http://weibo.com/u/'+str(uid)\n",
    "'''headers = {}\n",
    "headers['User-Agent'] = 'Mozilla/5.0 (Windows NT 6.1) AppleWebKit/537.36 (KHTML, like Gecko) Chrome/27.0.1453.116'\n",
    "headers['Accept'] = '*/*'\n",
    "headers['Accept-Language'] = 'en-US,en;q=0.5'\n",
    "headers['Accept-Encoding'] = 'deflate'\n",
    "headers['Referer'] = login_url\n",
    "headers['Content-Type'] =  'application/x-www-form-urlencoded'''\n",
    "jsonText = session.get(personal_url)\n",
    "jsonText.headers"
   ]
  },
  {
   "cell_type": "markdown",
   "metadata": {},
   "source": [
    "## 获取个人信息"
   ]
  },
  {
   "cell_type": "code",
   "execution_count": null,
   "metadata": {
    "collapsed": false
   },
   "outputs": [],
   "source": [
    "#coding=utf-8\n",
    "import re\n",
    "import json\n",
    "\n",
    "def get_uid(uid, resp):\n",
    "    url = 'http://weibo.com/u/'+str(uid)\n",
    "    print url\n",
    "    headers = {}\n",
    "    headers['User-Agent'] = 'Mozilla/5.0 (Windows NT 6.1) AppleWebKit/537.36 (KHTML, like Gecko) Chrome/27.0.1453.116'\n",
    "    headers['Accept'] = '*/*'\n",
    "    headers['Accept-Language'] = 'en-US,en;q=0.5'\n",
    "    headers['Accept-Encoding'] = 'deflate'\n",
    "    #headers['Referer'] = 'http://weibo.com/u/5687625445/home'\n",
    "    headers['Content-Type'] =  'application/x-www-form-urlencoded'\n",
    "    #headers['Cookie'] = resp.headers['set-cookie']\n",
    "    jsonText = session.get(personal_url, headers = headers)\n",
    "    return jsonText.content\n",
    "\n",
    "#get basic info for a user\n",
    "def get_config(jsonText):\n",
    "    msg = '<\\!-- \\$CONFIG -->.*<\\!-- \\/ \\$CONFIG -->'\n",
    "    src = re.compile(msg)\n",
    "    re_msg = re.search(src, jsonText.replace('\\r\\n',''))\n",
    "    if re_msg != None:\n",
    "        info = re_msg.group()\n",
    "    else:\n",
    "        print '[-] No CONFIG found!'\n",
    "        exit()\n",
    "    try:\n",
    "        info = re.search('\\$CONFIG\\[.*;',info).group()\n",
    "        meg = \"\\$CONFIG\\['oid'\\]='[0-9]*'\"#uid\n",
    "        uid = re.search(meg, info).group().split('=')[1].replace(\"'\",'')\n",
    "        meg = \"\\$CONFIG\\['onick'\\]='.*?'\"#nickname\n",
    "        nick = re.search(meg, info).group().split('=')[1].replace(\"'\",'')\n",
    "        meg = \"\\$CONFIG\\['location'\\]='page_[0-9]*_home'\"#location\n",
    "        location = re.search(meg, info).group().split('=')[1].replace(\"'\",'')\n",
    "        meg = \"\\$CONFIG\\['sex'\\]='[a-z]*'\"#sex\n",
    "        sex = re.search(meg, info).group().split('=')[1].replace(\"'\",'')\n",
    "        return uid,nick,location,sex\n",
    "    except:\n",
    "        print '[-] No CONFIG found!'\n",
    "        exit()\n",
    "info = get_uid(uid,jsonText)\n",
    "uid,nick,loc,sex = get_config(info)\n",
    "loc"
   ]
  },
  {
   "cell_type": "code",
   "execution_count": null,
   "metadata": {
    "collapsed": false
   },
   "outputs": [],
   "source": [
    "page = get_uid('5687625445',jsonText)"
   ]
  },
  {
   "cell_type": "code",
   "execution_count": 186,
   "metadata": {
    "collapsed": false
   },
   "outputs": [
    {
     "name": "stdout",
     "output_type": "stream",
     "text": [
      "5425946510 荒木毬菜\n",
      "1872762823 Photoshop大师\n",
      "2182038504 我的前任是极品\n",
      "5704691570 了不起的挑战\n",
      "2504004715 大叔神吐槽\n",
      "2028255444 FreeBuf黑客与极客\n",
      "2979392192 山下智博\n",
      "2718604160 王尼玛\n",
      "5580292704 日语小伙龙龙\n",
      "3033739533 邹老板其实是个逗逼\n",
      "2671109275 新手指南\n",
      "1748075785 哔哩哔哩弹幕网\n",
      "2275539475 日语总动员\n",
      "1805982651 知乎大神\n",
      "2060127212 人人网雅思哥\n",
      "5174473062 暴走看啥片儿\n"
     ]
    }
   ],
   "source": [
    "#get_attentions\n",
    "import re\n",
    "def get_attentions(uid):\n",
    "    url = 'http://weibo.com/'+str(uid)+'/follow?rightmod=1&wvr=6'\n",
    "    jsonText = session.get(url)\n",
    "    followers = re.findall('action-data=\\\\\\\\\"uid=[0-9]*&nick.*?>',jsonText.content)\n",
    "    flr = {}\n",
    "    for follwer in followers:\n",
    "        content = follwer.split('&')\n",
    "        flr[content[0].split('\"')[1].replace('uid=','')] = content[1].split('\\\\')[0].replace('nick=','')\n",
    "    return flr\n",
    "    \n",
    "attention_info = get_attentions(uid)\n",
    "for (d,x) in attention_info.items():\n",
    "    print d + ' ' + x"
   ]
  },
  {
   "cell_type": "code",
   "execution_count": null,
   "metadata": {
    "collapsed": false
   },
   "outputs": [],
   "source": [
    "#get_followers\n",
    "def get_followers(uid):\n",
    "    url = 'http://weibo.com/'+str(uid)+'/fans?rightmod=1&wvr=6'\n",
    "    jsonText = session.get(url)\n",
    "    followers = re.findall('action-data=\\\\\\\\\"uid=[0-9]*&nick.*?>',jsonText.content)\n",
    "    flr = {}\n",
    "    for follwer in followers:\n",
    "        content = follwer.split('&')\n",
    "        flr[content[0].split('\"')[1].replace('uid=','')] = content[1].split('\\\\')[0].replace('nick=','')\n",
    "    return flr\n",
    "\n",
    "follow_info = get_followers(uid)\n",
    "print follow_info"
   ]
  },
  {
   "cell_type": "code",
   "execution_count": 185,
   "metadata": {
    "collapsed": false
   },
   "outputs": [
    {
     "name": "stdout",
     "output_type": "stream",
     "text": [
      "[+] Forward weibo, details: http://vip.weibo.com/prividesc?priv=1107&from=zdicon 置顶\n",
      "orgin is : @人人网雅思哥 2016年1-4月P2&amp;P3沿用老题和轮换题卡制作完毕，已全部上传到对应名称的微博相册里面哈~1-4月参加考试的童鞋速速转走，祝大家口语顺溜溜，提分噌噌噌！ http://t.cn/R4Nmh5W O网页链接\n",
      "[+] Orgin weibo, details: 看到一个童鞋的求助：“写了p2，可是效率好低…要准备不完了…请问大家口语有没有好的方法？可是素材还有十几个没写完，就一憋憋好久才能写一个，更别说练了。我21号首战，求大家指点一下…好害怕…”大家分享下自己口语的复习经验吧~也给她一些鼓励哈，一起进步！\n",
      "[+] Orgin weibo, details: 这是昨晚学习总结中，一个童鞋的10小时+屠鸭计划，完成率也很高 充实的一天离不开有效的学习计划。如果大家的完成率不高，得多找找原因哈。\n",
      "[+] Forward weibo, details: 本周课表来了哈，寒假屠鸭，公益学院的大牛老师陪你们快刀斩乱麻。本周即将上映的《云中行走》很带感，难得一部展现高空眩晕的作品哈~\n",
      "orgin is : @雅思哥学院 雅思哥公益学院腾讯课堂第47周http://huati.weibo.com/k/1.18%E2%80%941.24?from=501 #1.18—1.24#，大家请温柔地摸这:http://t.cn/R4YzSK8 O网页链接免费报名上课！收藏雅思哥公益学院主页:http://t.cn/RwNqGao O网页链接追课更方便。每日精彩课程带你高效复习雅思，从此脱离迷茫的苦海http://huati.weibo.com/k/%E8%BD%AC%E5%8F%91%E8%AF%BE%E8%A1%A8%EF%BC%8C%E7%BB%A7%E7%BB%AD%E6%AF%8F%E5%A4%A9%E6%8A%BD1%E4%BD%8D%E7%AB%A5%E9%9E%8B%E9%80%81%E4%BB%BB%E9%80%89%E7%94%B5%E5%BD%B1%E7%A5%A8%E4%B8%80%E5%BC%A0?from=501 #转发课表，继续每天抽1位童鞋送任选电影票一张#http://huati.weibo.com/k/%E8%BD%AC%E5%8F%91%E8%AF%BE%E8%A1%A8%E5%9C%88%E6%88%98%E5%8F%8B%EF%BC%8C%E8%80%83%E8%AF%95%E4%BA%BA%E5%93%81%E8%87%AA%E7%84%B6%E6%9C%89?from=501 #转发课表圈战友，考试人品自然有#\n",
      "[+] Orgin weibo, details: http://huati.weibo.com/k/1.18%E5%8F%A3%E8%AF%AD%E5%9B%9E%E5%BF%86?from=501 #1.18口语回忆# 祝所有今天考口语的童鞋顺顺顺！！考完可以直接在这儿留下回忆哈~\n",
      "[+] Forward weibo, details: 上海财大 room304 亚洲脸女考官\n",
      "orgin is : @沈小微Shine 一考完就来攒人品http://weibo.com/n/%E4%BA%BA%E4%BA%BA%E7%BD%91%E9%9B%85%E6%80%9D%E5%93%A5?from=feed&loc=at @人人网雅思哥 首战雅思！\n",
      "[+] Forward weibo, details: 长沙传媒room1， 小动作表情丰富大白哥\n",
      "orgin is : @thecrazyrunnerW 攒人品吧http://weibo.com/n/%E4%BA%BA%E4%BA%BA%E7%BD%91%E9%9B%85%E6%80%9D%E5%93%A5?from=feed&loc=at @人人网雅思哥\n",
      "[+] Forward weibo, details: 广州仲恺 老老的又很慈祥的考官~\n",
      "orgin is : @ACE-Show 二战雅思，来发个回忆，积人品 http://weibo.com/n/%E4%BA%BA%E4%BA%BA%E7%BD%91%E9%9B%85%E6%80%9D%E5%93%A5?from=feed&loc=at @人人网雅思哥\n",
      "[+] Orgin weibo, details: 很好用的加分英语谚语，童鞋们收去多练习下，你的口语就会让考官眼前一亮哈~\n",
      "[+] Orgin weibo, details: http://huati.weibo.com/k/%E6%8B%92%E7%BB%9D%E8%B5%96%E5%BA%8A%E6%89%93%E5%8D%A1?from=501 #拒绝赖床打卡#Day 2 打卡规则很简单：实际起床时间截图评论，一周以后就能看到自己的进步喽。早起早过，我一直相信！\n",
      "[+] Orgin weibo, details: http://huati.weibo.com/k/%E5%AF%92%E5%81%87%E5%B1%A0%E9%B8%AD%E6%80%BB%E7%BB%93%E6%89%93%E5%8D%A1?from=501 #寒假屠鸭总结打卡# 第一天 总结内容：今天听说读写四项练习的情况。同时可以留下自己的疑问，相互帮助哈~ 汇报完毕就早点休息，明早7点等你们早起打卡哈\n",
      "[+] Forward weibo, details: 稍后11点左右，我会发布今天的学习总结打卡，希望到时看到你今天为了四个7付出的行动哈！\n",
      "orgin is : @Jade雅思不过7不改名 http://weibo.com/n/%E4%BA%BA%E4%BA%BA%E7%BD%91%E9%9B%85%E6%80%9D%E5%93%A5?from=feed&loc=at @人人网雅思哥 明天是我正式学习雅思的第一天，希望你能给我带来好运，我要4个7！加油(^ω^)！\n",
      "[+] Forward weibo, details: 好好干两月，相信你真的可以的！等着看你的实际行动咯~\n",
      "orgin is : @二战屠雅必胜耶 4月2号二战雅思，1.24--4.2 总共两个月的准备时间，好好干。这次一定要上7 分。可怜的宝宝要等到22号才能考完试，23号回家，24号开始每天打卡咯～我可以的！！http://weibo.com/n/%E4%BA%BA%E4%BA%BA%E7%BD%91%E9%9B%85%E6%80%9D%E5%93%A5?from=feed&loc=at @人人网雅思哥\n",
      "[+] Forward weibo, details: 这周屠鸭小组分组开始啦~位置有限，分完清空，大家抓紧时间哦！\n",
      "orgin is : @屠鸭小组 http://huati.weibo.com/k/%E9%9B%85%E6%80%9D%E5%93%A5%E5%B1%A0%E9%B8%AD%E5%B0%8F%E7%BB%84?from=501 #雅思哥屠鸭小组#开始分组了！ 0218\\/0220烤鸭看过来！声优人美会逗比的小组行政，一起奋斗的小组伙伴，让你的屠鸭路上不再孤单。启蒙组请准备好你们的报名截图(含有考试时间）、高分组请准备好报名截图和六分及六分以上的成绩单截图，八点开始，分组预备群247748170等你来！验证码“我不是木呆”。\n",
      "[+] Forward weibo, details: 今晚8点http://weibo.com/n/%E6%9D%A8%E5%93%B2%E7%86%99Michael?from=feed&loc=at @杨哲熙Michael&nbsp;&nbsp;雅思口语课堂，9点半http://weibo.com/n/%E4%BD%95%E7%90%BCJ?from=feed&loc=at @何琼J&nbsp;&nbsp;&nbsp;雅思听力课堂。童鞋们记得按时登陆扣扣戳报名链接http://huati.weibo.com/k/%E5%85%8D%E8%B4%B9%E4%B8%8A%E8%AF%BE?from=501 #免费上课#哈，http://huati.weibo.com/k/N%E5%A4%9A%E7%AB%A5%E9%9E%8B%E8%B7%9F%E7%9D%80%E5%85%AC%E7%9B%8A%E8%AF%BE%E5%A0%82%E5%AD%A6%E7%84%B6%E5%90%8E%E8%BF%87%E9%9B%85%E6%80%9D%EF%BC%8C%E4%BD%A0%E4%B9%9F%E5%8F%AF%E4%BB%A5%EF%BC%81?from=501 #N多童鞋跟着公益课堂学然后过雅思，你也可以！#http://weibo.com/n/%E5%A4%A7%E5%80%A9%E8%8C%B9?from=feed&loc=at @大倩茹 恭喜你中了电影票名额1张，私信我你想看的电影任意场次，哥就是比较任性\n",
      "orgin is : @杨哲熙Michael 雅思哥公益学院腾讯课堂第46周http://huati.weibo.com/k/1.11%E2%80%941.17?from=501 #1.11—1.17#，大家请温柔地摸这:http://t.cn/R46V2xe O网页链接免费报名上课！收藏雅思哥公益学院主页:http://t.cn/RwNqGao O网页链接追课更方便。每日精彩课程带你高效复习雅思，从此脱离迷茫的苦海http://huati.weibo.com/k/%E8%BD%AC%E5%8F%91%E8%AF%BE%E8%A1%A8%EF%BC%8C%E7%BB%A7%E7%BB%AD%E6%AF%8F%E5%A4%A9%E6%8A%BD1%E4%BD%8D%E7%AB%A5%E9%9E%8B%E9%80%81%E4%BB%BB%E9%80%89%E7%94%B5%E5%BD%B1%E7%A5%A8%E4%B8%80%E5%BC%A0?from=501 #转发课表，继续每天抽1位童鞋送任选电影票一张#http://huati.weibo.com/k/%E8%BD%AC%E5%8F%91%E8%AF%BE%E8%A1%A8%E5%9C%88%E6%88%98%E5%8F%8B%EF%BC%8C%E8%80%83%E8%AF%95%E4%BA%BA%E5%93%81%E8%87%AA%E7%84%B6%E6%9C%89?from=501 #转发课表圈战友，考试人品自然有#\n",
      "[+] Forward weibo, details: http://vip.weibo.com/prividesc?priv=1107&from=zdicon 置顶\n",
      "orgin is : @人人网雅思哥 2016年1-4月P2&amp;P3沿用老题和轮换题卡制作完毕，已全部上传到对应名称的微博相册里面哈~1-4月参加考试的童鞋速速转走，祝大家口语顺溜溜，提分噌噌噌！ http://t.cn/R4Nmh5W O网页链接\n",
      "[+] Orgin weibo, details: 看到一个童鞋的求助：“写了p2，可是效率好低…要准备不完了…请问大家口语有没有好的方法？可是素材还有十几个没写完，就一憋憋好久才能写一个，更别说练了。我21号首战，求大家指点一下…好害怕…”大家分享下自己口语的复习经验吧~也给她一些鼓励哈，一起进步！\n",
      "[+] Orgin weibo, details: 这是昨晚学习总结中，一个童鞋的10小时+屠鸭计划，完成率也很高 充实的一天离不开有效的学习计划。如果大家的完成率不高，得多找找原因哈。\n",
      "[+] Forward weibo, details: 本周课表来了哈，寒假屠鸭，公益学院的大牛老师陪你们快刀斩乱麻。本周即将上映的《云中行走》很带感，难得一部展现高空眩晕的作品哈~\n",
      "orgin is : @雅思哥学院 雅思哥公益学院腾讯课堂第47周http://huati.weibo.com/k/1.18%E2%80%941.24?from=501 #1.18—1.24#，大家请温柔地摸这:http://t.cn/R4YzSK8 O网页链接免费报名上课！收藏雅思哥公益学院主页:http://t.cn/RwNqGao O网页链接追课更方便。每日精彩课程带你高效复习雅思，从此脱离迷茫的苦海http://huati.weibo.com/k/%E8%BD%AC%E5%8F%91%E8%AF%BE%E8%A1%A8%EF%BC%8C%E7%BB%A7%E7%BB%AD%E6%AF%8F%E5%A4%A9%E6%8A%BD1%E4%BD%8D%E7%AB%A5%E9%9E%8B%E9%80%81%E4%BB%BB%E9%80%89%E7%94%B5%E5%BD%B1%E7%A5%A8%E4%B8%80%E5%BC%A0?from=501 #转发课表，继续每天抽1位童鞋送任选电影票一张#http://huati.weibo.com/k/%E8%BD%AC%E5%8F%91%E8%AF%BE%E8%A1%A8%E5%9C%88%E6%88%98%E5%8F%8B%EF%BC%8C%E8%80%83%E8%AF%95%E4%BA%BA%E5%93%81%E8%87%AA%E7%84%B6%E6%9C%89?from=501 #转发课表圈战友，考试人品自然有#\n",
      "[+] Orgin weibo, details: http://huati.weibo.com/k/1.18%E5%8F%A3%E8%AF%AD%E5%9B%9E%E5%BF%86?from=501 #1.18口语回忆# 祝所有今天考口语的童鞋顺顺顺！！考完可以直接在这儿留下回忆哈~\n",
      "[+] Forward weibo, details: 上海财大 room304 亚洲脸女考官\n",
      "orgin is : @沈小微Shine 一考完就来攒人品http://weibo.com/n/%E4%BA%BA%E4%BA%BA%E7%BD%91%E9%9B%85%E6%80%9D%E5%93%A5?from=feed&loc=at @人人网雅思哥 首战雅思！\n",
      "[+] Forward weibo, details: 长沙传媒room1， 小动作表情丰富大白哥\n",
      "orgin is : @thecrazyrunnerW 攒人品吧http://weibo.com/n/%E4%BA%BA%E4%BA%BA%E7%BD%91%E9%9B%85%E6%80%9D%E5%93%A5?from=feed&loc=at @人人网雅思哥\n",
      "[+] Forward weibo, details: 广州仲恺 老老的又很慈祥的考官~\n",
      "orgin is : @ACE-Show 二战雅思，来发个回忆，积人品 http://weibo.com/n/%E4%BA%BA%E4%BA%BA%E7%BD%91%E9%9B%85%E6%80%9D%E5%93%A5?from=feed&loc=at @人人网雅思哥\n",
      "[+] Orgin weibo, details: 很好用的加分英语谚语，童鞋们收去多练习下，你的口语就会让考官眼前一亮哈~\n",
      "[+] Orgin weibo, details: http://huati.weibo.com/k/%E6%8B%92%E7%BB%9D%E8%B5%96%E5%BA%8A%E6%89%93%E5%8D%A1?from=501 #拒绝赖床打卡#Day 2 打卡规则很简单：实际起床时间截图评论，一周以后就能看到自己的进步喽。早起早过，我一直相信！\n",
      "[+] Orgin weibo, details: http://huati.weibo.com/k/%E5%AF%92%E5%81%87%E5%B1%A0%E9%B8%AD%E6%80%BB%E7%BB%93%E6%89%93%E5%8D%A1?from=501 #寒假屠鸭总结打卡# 第一天 总结内容：今天听说读写四项练习的情况。同时可以留下自己的疑问，相互帮助哈~ 汇报完毕就早点休息，明早7点等你们早起打卡哈\n",
      "[+] Forward weibo, details: 稍后11点左右，我会发布今天的学习总结打卡，希望到时看到你今天为了四个7付出的行动哈！\n",
      "orgin is : @Jade雅思不过7不改名 http://weibo.com/n/%E4%BA%BA%E4%BA%BA%E7%BD%91%E9%9B%85%E6%80%9D%E5%93%A5?from=feed&loc=at @人人网雅思哥 明天是我正式学习雅思的第一天，希望你能给我带来好运，我要4个7！加油(^ω^)！\n",
      "[+] Forward weibo, details: 好好干两月，相信你真的可以的！等着看你的实际行动咯~\n",
      "orgin is : @二战屠雅必胜耶 4月2号二战雅思，1.24--4.2 总共两个月的准备时间，好好干。这次一定要上7 分。可怜的宝宝要等到22号才能考完试，23号回家，24号开始每天打卡咯～我可以的！！http://weibo.com/n/%E4%BA%BA%E4%BA%BA%E7%BD%91%E9%9B%85%E6%80%9D%E5%93%A5?from=feed&loc=at @人人网雅思哥\n",
      "[+] Forward weibo, details: 这周屠鸭小组分组开始啦~位置有限，分完清空，大家抓紧时间哦！\n",
      "orgin is : @屠鸭小组 http://huati.weibo.com/k/%E9%9B%85%E6%80%9D%E5%93%A5%E5%B1%A0%E9%B8%AD%E5%B0%8F%E7%BB%84?from=501 #雅思哥屠鸭小组#开始分组了！ 0218\\/0220烤鸭看过来！声优人美会逗比的小组行政，一起奋斗的小组伙伴，让你的屠鸭路上不再孤单。启蒙组请准备好你们的报名截图(含有考试时间）、高分组请准备好报名截图和六分及六分以上的成绩单截图，八点开始，分组预备群247748170等你来！验证码“我不是木呆”。\n",
      "[+] Forward weibo, details: 今晚8点http://weibo.com/n/%E6%9D%A8%E5%93%B2%E7%86%99Michael?from=feed&loc=at @杨哲熙Michael&nbsp;&nbsp;雅思口语课堂，9点半http://weibo.com/n/%E4%BD%95%E7%90%BCJ?from=feed&loc=at @何琼J&nbsp;&nbsp;&nbsp;雅思听力课堂。童鞋们记得按时登陆扣扣戳报名链接http://huati.weibo.com/k/%E5%85%8D%E8%B4%B9%E4%B8%8A%E8%AF%BE?from=501 #免费上课#哈，http://huati.weibo.com/k/N%E5%A4%9A%E7%AB%A5%E9%9E%8B%E8%B7%9F%E7%9D%80%E5%85%AC%E7%9B%8A%E8%AF%BE%E5%A0%82%E5%AD%A6%E7%84%B6%E5%90%8E%E8%BF%87%E9%9B%85%E6%80%9D%EF%BC%8C%E4%BD%A0%E4%B9%9F%E5%8F%AF%E4%BB%A5%EF%BC%81?from=501 #N多童鞋跟着公益课堂学然后过雅思，你也可以！#http://weibo.com/n/%E5%A4%A7%E5%80%A9%E8%8C%B9?from=feed&loc=at @大倩茹 恭喜你中了电影票名额1张，私信我你想看的电影任意场次，哥就是比较任性\n",
      "orgin is : @杨哲熙Michael 雅思哥公益学院腾讯课堂第46周http://huati.weibo.com/k/1.11%E2%80%941.17?from=501 #1.11—1.17#，大家请温柔地摸这:http://t.cn/R46V2xe O网页链接免费报名上课！收藏雅思哥公益学院主页:http://t.cn/RwNqGao O网页链接追课更方便。每日精彩课程带你高效复习雅思，从此脱离迷茫的苦海http://huati.weibo.com/k/%E8%BD%AC%E5%8F%91%E8%AF%BE%E8%A1%A8%EF%BC%8C%E7%BB%A7%E7%BB%AD%E6%AF%8F%E5%A4%A9%E6%8A%BD1%E4%BD%8D%E7%AB%A5%E9%9E%8B%E9%80%81%E4%BB%BB%E9%80%89%E7%94%B5%E5%BD%B1%E7%A5%A8%E4%B8%80%E5%BC%A0?from=501 #转发课表，继续每天抽1位童鞋送任选电影票一张#http://huati.weibo.com/k/%E8%BD%AC%E5%8F%91%E8%AF%BE%E8%A1%A8%E5%9C%88%E6%88%98%E5%8F%8B%EF%BC%8C%E8%80%83%E8%AF%95%E4%BA%BA%E5%93%81%E8%87%AA%E7%84%B6%E6%9C%89?from=501 #转发课表圈战友，考试人品自然有#\n"
     ]
    }
   ],
   "source": [
    "#get weibo content\n",
    "\n",
    "#解析返回页面，主要提取链接信息，链接在文字前面\n",
    "def proc_WB_detail(details):\n",
    "    de = details.split('\\\\n')[0].replace('<\\/div','').strip()\n",
    "    d = re.findall('<.*?>',de)\n",
    "    de_t = de\n",
    "    for line in d:\n",
    "        if re.search('href.*',line) is not None:\n",
    "            href = re.search('href=\\\\\\\\\".*?\"',line).group().replace('href=\\\\\\\"','').replace('\\\\','').replace('\"','')+' '\n",
    "        else:\n",
    "            href = ''\n",
    "        de_t = de_t.replace(line,href)\n",
    "    return de_t.strip()\n",
    "\n",
    "def page_content(cons):\n",
    "    soup = BeautifulSoup(cons, \"html.parser\")\n",
    "    #print dir(soup)\n",
    "    contents = soup.findAll('script')\n",
    "    num = 0\n",
    "    inf = []\n",
    "    for content in contents:#解析的时候出现了\\n\\\"等字符，BS识别不了，先用正则表达式过渡一下\n",
    "        num += 1\n",
    "        if re.search('WB_detail',str(content)):\n",
    "            #content contain weibo info\n",
    "            infos = re.search('<div class=\\\\\\\\\"WB_detail.*',str(content)).group()\n",
    "            #soups = BeautifulSoup(infos, \"html.parser\")\n",
    "            inf = (infos.split('<div class=\\\\\\\"WB_detail\\\\\\\">'))\n",
    "        #get weibo details\n",
    "        for i in inf[1:]:#第一个分离部分是空的，故舍弃\n",
    "            WB_details = re.findall('WB_text.*?<\\\\\\/div',i)\n",
    "            if len(WB_details) == 2:#转发\n",
    "                print '[+] Forward weibo, details: ' + proc_WB_detail(WB_details[0].split('\\\\n')[1].replace('<\\/div','').strip())\n",
    "                print 'orgin is : ' + re.search('@.*?<',i).group().replace('<','') +' '+ proc_WB_detail(WB_details[1].split('\\\\n')[1].replace('<\\/div','').strip())\n",
    "            elif len(WB_details) == 1:#原创微博\n",
    "                print '[+] Orgin weibo, details: ' + proc_WB_detail(WB_details[0].split('\\\\n')[1].replace('<\\/div','').strip())\n",
    "            else:\n",
    "                print '[-] Can not found Weibo_details!'\n",
    "                break\n",
    "                \n",
    "def get_content(uid):\n",
    "    url = 'http://weibo.com/'+str(uid)+'/profile?rightmod=1&wvr=6&mod=personnumber&is_all=1'\n",
    "    jsonText = session.get(url)\n",
    "    basic_infos = re.findall('<strong class.*?<',jsonText.content)\n",
    "    basic_info = []#attention, fans, weibos\n",
    "    for info in basic_infos:\n",
    "        basic_info.append(info.split('>')[1].replace('<',''))\n",
    "    \n",
    "    page_content(jsonText.content)\n",
    "    return basic_info\n",
    "    \n",
    "page_info = get_content('2060127212')"
   ]
  },
  {
   "cell_type": "markdown",
   "metadata": {
    "collapsed": true
   },
   "source": [
    "### 发微博"
   ]
  },
  {
   "cell_type": "code",
   "execution_count": null,
   "metadata": {
    "collapsed": false
   },
   "outputs": [],
   "source": [
    "def add_new(content ,resp):\n",
    "    addurl = \"http://weibo.com/aj/mblog/add?ajwvr=6&__rnd\" + str(int(time.time()*1000))\n",
    "    data = {'text':content, 'rank':'0', 'rankid':'', 'location':'v6_content_home', 'module':'stissue', '_t':'0','appkey':'',\n",
    "           'tyle_type':'1', 'pic_id':'', 'pdetail':'', 'pub_source':'main_', 'pub_type':'dialog' }\n",
    "    headers = {}\n",
    "    headers['set-cookie'] = resp.headers['set-cookie']\n",
    "    headers['Referer'] = 'http://weibo.com/u/'+str(uid)+'/home'\n",
    "    respon = session.post(addurl, data, headers=headers)\n",
    "    if respon.status_code == 200:\n",
    "        print '[+] post success!'\n",
    "    else:\n",
    "        print '[-] post failed!'\n",
    "        exit(1)\n",
    "add_new(\"I'm a test\", jsonText)"
   ]
  },
  {
   "cell_type": "markdown",
   "metadata": {},
   "source": [
    "### 自动转发"
   ]
  },
  {
   "cell_type": "code",
   "execution_count": null,
   "metadata": {
    "collapsed": false
   },
   "outputs": [],
   "source": [
    "#\n",
    "def forward(mid, content, domain):\n",
    "    forwardurl = 'http://d.weibo.com/aj/v6/mblog/forward?ajwvr=6&domain='+str(domain)+'&__rnd=' + str(int(time.time()*1000))\n",
    "    data = {\n",
    "        'pic_src':'',\n",
    "        'pic_id':'',\n",
    "        'appkey':'',\n",
    "        'mid':str(mid), \n",
    "        'style-type':1,\n",
    "        'mark':'',\n",
    "        'reason':content, \n",
    "        'location':'page_'+str(domain)+'_home',\n",
    "        'pdetail':str(domain),\n",
    "        'module':'',\n",
    "        'page_module_id':'',\n",
    "        'refer_sort':'',\n",
    "        'rank':0,\n",
    "        'rankid':'',\n",
    "        'filter_actionlog':'102803_ctg1_99991_-_ctg1_99991',\n",
    "        '_t':0,\n",
    "    }\n",
    "    headers = {}\n",
    "    headers['set-cookie'] = jsonText.headers['set-cookie']\n",
    "    headers['Referer'] = 'http://d.weibo.com/'\n",
    "    respon = session.post(forwardurl, data, headers=headers)\n",
    "    if respon.status_code == 200:\n",
    "        print '[+] post success!'\n",
    "        print respon.content\n",
    "    else:\n",
    "        print '[-] post failed!'\n",
    "        exit(1)\n",
    "forward(3930416564614210, \"zhuanfa\", 102803)"
   ]
  },
  {
   "cell_type": "markdown",
   "metadata": {},
   "source": [
    "### 自动关注"
   ]
  },
  {
   "cell_type": "code",
   "execution_count": null,
   "metadata": {
    "collapsed": false
   },
   "outputs": [],
   "source": [
    "#dstuid代表名字，fname代表关注人的名字，oid是登陆时获取的你的账号id，resp用来提供cookie\n",
    "#/gaoyuanyuan?is_hot=1，爬虫需要注意昵称\n",
    "def followed(dstuid,fname,oid,resp,loc):\n",
    "        followedurl = \"http://weibo.com/aj/f/followed?ajwvr=6&__rnd=\" + str(int(time.time()*1000))\n",
    "        data = {'uid':dstuid,\n",
    "                'objectid':'',\n",
    "                'f':'1',\n",
    "                'extra':'',\n",
    "                'refer_sort':'',\n",
    "                'refer_flag':'',\n",
    "                'location':loc,#通过\n",
    "                'oid':dstuid,\n",
    "                'wforce':'1',\n",
    "                'nogroup':'false',\n",
    "                'fnick':fname,\n",
    "                '_t':'0'\n",
    "                }\n",
    "        headers = {}\n",
    "        headers['set-cookie'] = resp.headers['set-cookie']\n",
    "        headers['Referer'] = 'http://weibo.com/u/'+dstuid+'?is_hot=1'\n",
    "        respon = session.post(followedurl, data, headers=headers)\n",
    "        if respon.status_code == 200:\n",
    "        print '[+] post success!'\n",
    "    else:\n",
    "        print '[-] post failed!'\n",
    "        exit(1)\n",
    "followed('2182038504','我的前任是极品',uid,jsonText,loc)"
   ]
  }
 ],
 "metadata": {
  "kernelspec": {
   "display_name": "Python 2",
   "language": "python",
   "name": "python2"
  },
  "language_info": {
   "codemirror_mode": {
    "name": "ipython",
    "version": 2
   },
   "file_extension": ".py",
   "mimetype": "text/x-python",
   "name": "python",
   "nbconvert_exporter": "python",
   "pygments_lexer": "ipython2",
   "version": "2.7.6"
  }
 },
 "nbformat": 4,
 "nbformat_minor": 0
}
